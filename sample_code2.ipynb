{
 "cells": [
  {
   "cell_type": "code",
   "execution_count": 1,
   "metadata": {},
   "outputs": [],
   "source": [
    "import pandas as pd\n",
    "import numpy as np\n",
    "import math"
   ]
  },
  {
   "cell_type": "code",
   "execution_count": 2,
   "metadata": {},
   "outputs": [],
   "source": [
    "bc_data = pd.read_csv('breast-cancer.data.txt', sep=',', header = 0)"
   ]
  },
  {
   "cell_type": "code",
   "execution_count": 3,
   "metadata": {},
   "outputs": [
    {
     "data": {
      "text/html": [
       "<div>\n",
       "<style scoped>\n",
       "    .dataframe tbody tr th:only-of-type {\n",
       "        vertical-align: middle;\n",
       "    }\n",
       "\n",
       "    .dataframe tbody tr th {\n",
       "        vertical-align: top;\n",
       "    }\n",
       "\n",
       "    .dataframe thead th {\n",
       "        text-align: right;\n",
       "    }\n",
       "</style>\n",
       "<table border=\"1\" class=\"dataframe\">\n",
       "  <thead>\n",
       "    <tr style=\"text-align: right;\">\n",
       "      <th></th>\n",
       "      <th>Class</th>\n",
       "      <th>Age</th>\n",
       "      <th>Menopause</th>\n",
       "      <th>Tumor-size</th>\n",
       "      <th>Inv-nodes</th>\n",
       "      <th>Node-caps</th>\n",
       "      <th>Deg-malig</th>\n",
       "      <th>Breast</th>\n",
       "      <th>Breast-quad</th>\n",
       "      <th>Irradiat</th>\n",
       "    </tr>\n",
       "  </thead>\n",
       "  <tbody>\n",
       "    <tr>\n",
       "      <td>0</td>\n",
       "      <td>no-recurrence-events</td>\n",
       "      <td>30-39</td>\n",
       "      <td>premeno</td>\n",
       "      <td>30-34</td>\n",
       "      <td>0-2</td>\n",
       "      <td>no</td>\n",
       "      <td>3</td>\n",
       "      <td>left</td>\n",
       "      <td>left_low</td>\n",
       "      <td>no</td>\n",
       "    </tr>\n",
       "    <tr>\n",
       "      <td>1</td>\n",
       "      <td>no-recurrence-events</td>\n",
       "      <td>40-49</td>\n",
       "      <td>premeno</td>\n",
       "      <td>20-24</td>\n",
       "      <td>0-2</td>\n",
       "      <td>no</td>\n",
       "      <td>2</td>\n",
       "      <td>right</td>\n",
       "      <td>right_up</td>\n",
       "      <td>no</td>\n",
       "    </tr>\n",
       "    <tr>\n",
       "      <td>2</td>\n",
       "      <td>no-recurrence-events</td>\n",
       "      <td>40-49</td>\n",
       "      <td>premeno</td>\n",
       "      <td>20-24</td>\n",
       "      <td>0-2</td>\n",
       "      <td>no</td>\n",
       "      <td>2</td>\n",
       "      <td>left</td>\n",
       "      <td>left_low</td>\n",
       "      <td>no</td>\n",
       "    </tr>\n",
       "    <tr>\n",
       "      <td>3</td>\n",
       "      <td>no-recurrence-events</td>\n",
       "      <td>60-69</td>\n",
       "      <td>ge40</td>\n",
       "      <td>15-19</td>\n",
       "      <td>0-2</td>\n",
       "      <td>no</td>\n",
       "      <td>2</td>\n",
       "      <td>right</td>\n",
       "      <td>left_up</td>\n",
       "      <td>no</td>\n",
       "    </tr>\n",
       "    <tr>\n",
       "      <td>4</td>\n",
       "      <td>no-recurrence-events</td>\n",
       "      <td>40-49</td>\n",
       "      <td>premeno</td>\n",
       "      <td>0-4</td>\n",
       "      <td>0-2</td>\n",
       "      <td>no</td>\n",
       "      <td>2</td>\n",
       "      <td>right</td>\n",
       "      <td>right_low</td>\n",
       "      <td>no</td>\n",
       "    </tr>\n",
       "    <tr>\n",
       "      <td>...</td>\n",
       "      <td>...</td>\n",
       "      <td>...</td>\n",
       "      <td>...</td>\n",
       "      <td>...</td>\n",
       "      <td>...</td>\n",
       "      <td>...</td>\n",
       "      <td>...</td>\n",
       "      <td>...</td>\n",
       "      <td>...</td>\n",
       "      <td>...</td>\n",
       "    </tr>\n",
       "    <tr>\n",
       "      <td>281</td>\n",
       "      <td>recurrence-events</td>\n",
       "      <td>30-39</td>\n",
       "      <td>premeno</td>\n",
       "      <td>30-34</td>\n",
       "      <td>0-2</td>\n",
       "      <td>no</td>\n",
       "      <td>2</td>\n",
       "      <td>left</td>\n",
       "      <td>left_up</td>\n",
       "      <td>no</td>\n",
       "    </tr>\n",
       "    <tr>\n",
       "      <td>282</td>\n",
       "      <td>recurrence-events</td>\n",
       "      <td>30-39</td>\n",
       "      <td>premeno</td>\n",
       "      <td>20-24</td>\n",
       "      <td>0-2</td>\n",
       "      <td>no</td>\n",
       "      <td>3</td>\n",
       "      <td>left</td>\n",
       "      <td>left_up</td>\n",
       "      <td>yes</td>\n",
       "    </tr>\n",
       "    <tr>\n",
       "      <td>283</td>\n",
       "      <td>recurrence-events</td>\n",
       "      <td>60-69</td>\n",
       "      <td>ge40</td>\n",
       "      <td>20-24</td>\n",
       "      <td>0-2</td>\n",
       "      <td>no</td>\n",
       "      <td>1</td>\n",
       "      <td>right</td>\n",
       "      <td>left_up</td>\n",
       "      <td>no</td>\n",
       "    </tr>\n",
       "    <tr>\n",
       "      <td>284</td>\n",
       "      <td>recurrence-events</td>\n",
       "      <td>40-49</td>\n",
       "      <td>ge40</td>\n",
       "      <td>30-34</td>\n",
       "      <td>3-5</td>\n",
       "      <td>no</td>\n",
       "      <td>3</td>\n",
       "      <td>left</td>\n",
       "      <td>left_low</td>\n",
       "      <td>no</td>\n",
       "    </tr>\n",
       "    <tr>\n",
       "      <td>285</td>\n",
       "      <td>recurrence-events</td>\n",
       "      <td>50-59</td>\n",
       "      <td>ge40</td>\n",
       "      <td>30-34</td>\n",
       "      <td>3-5</td>\n",
       "      <td>no</td>\n",
       "      <td>3</td>\n",
       "      <td>left</td>\n",
       "      <td>left_low</td>\n",
       "      <td>no</td>\n",
       "    </tr>\n",
       "  </tbody>\n",
       "</table>\n",
       "<p>286 rows × 10 columns</p>\n",
       "</div>"
      ],
      "text/plain": [
       "                    Class    Age Menopause Tumor-size Inv-nodes Node-caps  \\\n",
       "0    no-recurrence-events  30-39   premeno      30-34       0-2        no   \n",
       "1    no-recurrence-events  40-49   premeno      20-24       0-2        no   \n",
       "2    no-recurrence-events  40-49   premeno      20-24       0-2        no   \n",
       "3    no-recurrence-events  60-69      ge40      15-19       0-2        no   \n",
       "4    no-recurrence-events  40-49   premeno        0-4       0-2        no   \n",
       "..                    ...    ...       ...        ...       ...       ...   \n",
       "281     recurrence-events  30-39   premeno      30-34       0-2        no   \n",
       "282     recurrence-events  30-39   premeno      20-24       0-2        no   \n",
       "283     recurrence-events  60-69      ge40      20-24       0-2        no   \n",
       "284     recurrence-events  40-49      ge40      30-34       3-5        no   \n",
       "285     recurrence-events  50-59      ge40      30-34       3-5        no   \n",
       "\n",
       "     Deg-malig Breast Breast-quad Irradiat  \n",
       "0            3   left    left_low       no  \n",
       "1            2  right    right_up       no  \n",
       "2            2   left    left_low       no  \n",
       "3            2  right     left_up       no  \n",
       "4            2  right   right_low       no  \n",
       "..         ...    ...         ...      ...  \n",
       "281          2   left     left_up       no  \n",
       "282          3   left     left_up      yes  \n",
       "283          1  right     left_up       no  \n",
       "284          3   left    left_low       no  \n",
       "285          3   left    left_low       no  \n",
       "\n",
       "[286 rows x 10 columns]"
      ]
     },
     "execution_count": 3,
     "metadata": {},
     "output_type": "execute_result"
    }
   ],
   "source": [
    "bc_data"
   ]
  },
  {
   "cell_type": "markdown",
   "metadata": {},
   "source": [
    "## 1. Plot the bar plot of the number of samples in each class for each possible age range."
   ]
  },
  {
   "cell_type": "code",
   "execution_count": 8,
   "metadata": {},
   "outputs": [
    {
     "data": {
      "text/plain": [
       "<matplotlib.axes._subplots.AxesSubplot at 0x11c6f2110>"
      ]
     },
     "execution_count": 8,
     "metadata": {},
     "output_type": "execute_result"
    },
    {
     "data": {
      "image/png": "[encoded data removed]",
      "text/plain": [
       "<Figure size 432x288 with 1 Axes>"
      ]
     },
     "metadata": {
      "needs_background": "light"
     },
     "output_type": "display_data"
    }
   ],
   "source": [
    "bc_data.groupby(['Age','Class']).size().unstack().plot(kind='bar')"
   ]
  },
  {
   "cell_type": "markdown",
   "metadata": {},
   "source": [
    "## Pick attributes as the first split of a decision tree classifier"
   ]
  },
  {
   "cell_type": "code",
   "execution_count": 5,
   "metadata": {},
   "outputs": [],
   "source": [
    "def Info(sample, split, data):\n",
    "    values_dict = data[split].value_counts()\n",
    "    total_counts = data.shape[0]\n",
    "    Info_Split = 0\n",
    "    \n",
    "    for val in values_dict.index:\n",
    "        val_counts = values_dict[val]\n",
    "        split_value = data[split] == val\n",
    "        sample_counts = data[split_value][sample].value_counts()\n",
    "        if len(sample_counts.index) ==1:\n",
    "            Info_val= 0\n",
    "        else:\n",
    "            p_non_rec = sample_counts[0]/val_counts\n",
    "            p_rec = sample_counts[1]/val_counts\n",
    "            Info_val = (val_counts/total_counts)*(-p_rec*math.log(p_rec, 2) - p_non_rec*math.log(p_non_rec, 2))\n",
    "        Info_Split += Info_val\n",
    "        \n",
    "    return Info_Split"
   ]
  },
  {
   "cell_type": "code",
   "execution_count": 6,
   "metadata": {},
   "outputs": [
    {
     "data": {
      "text/plain": [
       "no-recurrence-events    201\n",
       "recurrence-events        85\n",
       "Name: Class, dtype: int64"
      ]
     },
     "execution_count": 6,
     "metadata": {},
     "output_type": "execute_result"
    }
   ],
   "source": [
    "bc_data['Class'].value_counts()"
   ]
  },
  {
   "cell_type": "code",
   "execution_count": 7,
   "metadata": {},
   "outputs": [
    {
     "data": {
      "text/plain": [
       "0.878"
      ]
     },
     "execution_count": 7,
     "metadata": {},
     "output_type": "execute_result"
    }
   ],
   "source": [
    "#information gain of all samples in Class I(201, 85)\n",
    "p_non_rec = bc_data['Class'].value_counts()[0]/bc_data.shape[0]\n",
    "p_rec = bc_data['Class'].value_counts()[1]/bc_data.shape[0]\n",
    "Info_Class = round(-p_rec*math.log(p_rec, 2) - p_non_rec*math.log(p_non_rec, 2),3)\n",
    "Info_Class"
   ]
  },
  {
   "cell_type": "code",
   "execution_count": 9,
   "metadata": {
    "scrolled": true
   },
   "outputs": [
    {
     "name": "stdout",
     "output_type": "stream",
     "text": [
      "Class\n",
      "Age\n",
      "      Age                 Class   0\n",
      "0   20-29  no-recurrence-events   1\n",
      "1   30-39  no-recurrence-events  21\n",
      "2   30-39     recurrence-events  15\n",
      "3   40-49  no-recurrence-events  63\n",
      "4   40-49     recurrence-events  27\n",
      "5   50-59  no-recurrence-events  71\n",
      "6   50-59     recurrence-events  25\n",
      "7   60-69  no-recurrence-events  40\n",
      "8   60-69     recurrence-events  17\n",
      "9   70-79  no-recurrence-events   5\n",
      "10  70-79     recurrence-events   1\n",
      "Menopause\n",
      "  Menopause                 Class    0\n",
      "0      ge40  no-recurrence-events   94\n",
      "1      ge40     recurrence-events   35\n",
      "2      lt40  no-recurrence-events    5\n",
      "3      lt40     recurrence-events    2\n",
      "4   premeno  no-recurrence-events  102\n",
      "5   premeno     recurrence-events   48\n",
      "Tumor-size\n",
      "   Tumor-size                 Class   0\n",
      "0         0-4  no-recurrence-events   7\n",
      "1         0-4     recurrence-events   1\n",
      "2       10-14  no-recurrence-events  27\n",
      "3       10-14     recurrence-events   1\n",
      "4       15-19  no-recurrence-events  23\n",
      "5       15-19     recurrence-events   7\n",
      "6       20-24  no-recurrence-events  34\n",
      "7       20-24     recurrence-events  16\n",
      "8       25-29  no-recurrence-events  36\n",
      "9       25-29     recurrence-events  18\n",
      "10      30-34  no-recurrence-events  35\n",
      "11      30-34     recurrence-events  25\n",
      "12      35-39  no-recurrence-events  12\n",
      "13      35-39     recurrence-events   7\n",
      "14      40-44  no-recurrence-events  16\n",
      "15      40-44     recurrence-events   6\n",
      "16      45-49  no-recurrence-events   2\n",
      "17      45-49     recurrence-events   1\n",
      "18        5-9  no-recurrence-events   4\n",
      "19      50-54  no-recurrence-events   5\n",
      "20      50-54     recurrence-events   3\n",
      "Inv-nodes\n",
      "   Inv-nodes                 Class    0\n",
      "0        0-2  no-recurrence-events  167\n",
      "1        0-2     recurrence-events   46\n",
      "2      12-14  no-recurrence-events    1\n",
      "3      12-14     recurrence-events    2\n",
      "4      15-17  no-recurrence-events    3\n",
      "5      15-17     recurrence-events    3\n",
      "6      24-26     recurrence-events    1\n",
      "7        3-5  no-recurrence-events   19\n",
      "8        3-5     recurrence-events   17\n",
      "9        6-8  no-recurrence-events    7\n",
      "10       6-8     recurrence-events   10\n",
      "11      9-11  no-recurrence-events    4\n",
      "12      9-11     recurrence-events    6\n",
      "Node-caps\n",
      "  Node-caps                 Class    0\n",
      "0        no  no-recurrence-events  171\n",
      "1        no     recurrence-events   51\n",
      "2       yes  no-recurrence-events   25\n",
      "3       yes     recurrence-events   31\n",
      "Deg-malig\n",
      "   Deg-malig                 Class    0\n",
      "0          1  no-recurrence-events   59\n",
      "1          1     recurrence-events   12\n",
      "2          2  no-recurrence-events  102\n",
      "3          2     recurrence-events   28\n",
      "4          3  no-recurrence-events   40\n",
      "5          3     recurrence-events   45\n",
      "Breast\n",
      "  Breast                 Class    0\n",
      "0   left  no-recurrence-events  103\n",
      "1   left     recurrence-events   49\n",
      "2  right  no-recurrence-events   98\n",
      "3  right     recurrence-events   36\n",
      "Breast-quad\n",
      "  Breast-quad                 Class   0\n",
      "0     central  no-recurrence-events  17\n",
      "1     central     recurrence-events   4\n",
      "2    left_low  no-recurrence-events  75\n",
      "3    left_low     recurrence-events  35\n",
      "4     left_up  no-recurrence-events  71\n",
      "5     left_up     recurrence-events  26\n",
      "6   right_low  no-recurrence-events  18\n",
      "7   right_low     recurrence-events   6\n",
      "8    right_up  no-recurrence-events  20\n",
      "9    right_up     recurrence-events  13\n",
      "Irradiat\n",
      "  Irradiat                 Class    0\n",
      "0       no  no-recurrence-events  164\n",
      "1       no     recurrence-events   54\n",
      "2      yes  no-recurrence-events   37\n",
      "3      yes     recurrence-events   31\n"
     ]
    }
   ],
   "source": [
    "bc_data_na = bc_data.replace('?', np.nan)\n",
    "for col in bc_data_na.columns:\n",
    "    print(col)\n",
    "    if col != 'Class':\n",
    "        print(bc_data_na.groupby([col, 'Class']).size().reset_index())"
   ]
  },
  {
   "cell_type": "code",
   "execution_count": 10,
   "metadata": {},
   "outputs": [
    {
     "name": "stdout",
     "output_type": "stream",
     "text": [
      "Information Gain for Age is 0.011\n",
      "Information Gain for Menopause is 0.002\n",
      "Information Gain for Tumor-size is 0.057\n",
      "Information Gain for Inv-nodes is 0.069\n",
      "Information Gain for Node-caps is 0.08\n",
      "Information Gain for Deg-malig is 0.077\n",
      "Information Gain for Breast is 0.003\n",
      "Information Gain for Breast-quad is 0.015\n",
      "Information Gain for Irradiat is 0.026\n",
      "Node-caps gives maximum information gain\n"
     ]
    }
   ],
   "source": [
    "Initial_Gain = 0\n",
    "new_split = ''\n",
    "\n",
    "for col in bc_data_na.columns:\n",
    "    if col != 'Class':\n",
    "        Gain  = round(Info_Class - Info('Class', col, bc_data_na), 3)\n",
    "        print('Information Gain for', col, 'is', Gain)\n",
    "        \n",
    "        if Gain > Initial_Gain:\n",
    "            Initial_Gain = Gain\n",
    "            new_split = col\n",
    "            \n",
    "print(new_split, 'gives maximum information gain')"
   ]
  },
  {
   "cell_type": "markdown",
   "metadata": {},
   "source": [
    "## Use Gini Index to decide the best partitions."
   ]
  },
  {
   "cell_type": "code",
   "execution_count": 17,
   "metadata": {},
   "outputs": [],
   "source": [
    "def Split_Gini(col, data):\n",
    "    range_index = data[col].str.contains('-')\n",
    "    col_range = data[range_index]\n",
    "    total_counts = data.shape[0]\n",
    "    \n",
    "    Gini_min = 0\n",
    "    Split_min = ''\n",
    "    if col_range.shape[0]  > 0: \n",
    "        data['col_Lbound'] = data[col].str.split(pat='-', expand= True)[0]\n",
    "        data['col_Rbound'] = data[col].str.split(pat='-', expand= True)[1]\n",
    "        left = data['col_Lbound'].unique().astype(int).tolist()\n",
    "        right = data['col_Rbound'].unique().astype(int).tolist()\n",
    "        \n",
    "        splits = []       \n",
    "        for i in range(len(right)-1):\n",
    "            split = (right[i] + left[i+1])/2\n",
    "            splits.append(split)\n",
    "                    \n",
    "        for split in splits:\n",
    "            \n",
    "            group0 = data[data['col_Rbound'].astype(int) <= split]\n",
    "            group1 = data[data['col_Rbound'].astype(int) > split]\n",
    "            \n",
    "            group0_no_counts = group0['Class'].value_counts()[0]\n",
    "            group0_counts = group0.shape[0]\n",
    "            Gini_group0 = (group0_counts/total_counts) * (1-(group0_no_counts/group0_counts)**2 - \n",
    "                                                   ((group0_counts-group0_no_counts)/group0_counts**2))\n",
    "            \n",
    "\n",
    "            group1_no_counts = group1['Class'].value_counts()[0]\n",
    "            group1_counts = group1.shape[0]        \n",
    "            Gini_group1 = (group1_counts/total_counts) * (1-(group1_no_counts/group1_counts)**2 - \n",
    "                                                   ((group1_counts-group1_no_counts)/group1_counts**2))\n",
    "            Gini = round(Gini_group0 + Gini_group1, 3)\n",
    "            print(Gini)\n",
    "            if Gini_min == 0 and Gini !=0:\n",
    "                Gini_min = Gini\n",
    "                Split_min = split\n",
    "                \n",
    "            elif Gini<Gini_min:\n",
    "                Gini_min = Gini\n",
    "                Split_min = split\n",
    "                \n",
    "    return (Split_min, Gini_min)"
   ]
  },
  {
   "cell_type": "code",
   "execution_count": 12,
   "metadata": {},
   "outputs": [],
   "source": [
    "def Gini(sample, attribute, data):\n",
    "    values_dict = data[attribute].value_counts()\n",
    "    total_counts = data.shape[0]\n",
    "    Gini_attribute = 0\n",
    "    \n",
    "    for val in values_dict.index:\n",
    "        val_counts = values_dict[val]\n",
    "        attribute_value = data[attribute] == val\n",
    "        sample_counts = data[attribute_value][sample].value_counts()\n",
    "  \n",
    "        p_non_rec = sample_counts[0]/val_counts\n",
    "        p_rec = sample_counts[1]/val_counts\n",
    "        Gini_val = (val_counts/total_counts)*(1-p_rec**2 - p_non_rec**2)\n",
    "        Gini_attribute += Gini_val\n",
    "        \n",
    "    return Gini_attribute"
   ]
  },
  {
   "cell_type": "code",
   "execution_count": 13,
   "metadata": {},
   "outputs": [
    {
     "data": {
      "text/plain": [
       "no     222\n",
       "yes     56\n",
       "Name: Node-caps, dtype: int64"
      ]
     },
     "execution_count": 13,
     "metadata": {},
     "output_type": "execute_result"
    }
   ],
   "source": [
    "bc_data_na['Node-caps'].value_counts()"
   ]
  },
  {
   "cell_type": "code",
   "execution_count": 14,
   "metadata": {},
   "outputs": [
    {
     "data": {
      "text/plain": [
       "0.418"
      ]
     },
     "execution_count": 14,
     "metadata": {},
     "output_type": "execute_result"
    }
   ],
   "source": [
    "#Gini of all samples in Class\n",
    "Gini_Class = round(1-p_rec**2 - p_non_rec**2,3)\n",
    "Gini_Class"
   ]
  },
  {
   "cell_type": "code",
   "execution_count": 15,
   "metadata": {},
   "outputs": [
    {
     "data": {
      "text/plain": [
       "0.371"
      ]
     },
     "execution_count": 15,
     "metadata": {},
     "output_type": "execute_result"
    }
   ],
   "source": [
    "Gini_Node = round(Gini('Class', \"Node-caps\", bc_data_na),3)\n",
    "Gini_Node"
   ]
  },
  {
   "cell_type": "code",
   "execution_count": 18,
   "metadata": {},
   "outputs": [
    {
     "name": "stdout",
     "output_type": "stream",
     "text": [
      "0.467\n",
      "0.483\n",
      "0.466\n",
      "0.483\n",
      "0.498\n",
      "0.5\n"
     ]
    },
    {
     "data": {
      "text/plain": [
       "(7.0, 0.466)"
      ]
     },
     "execution_count": 18,
     "metadata": {},
     "output_type": "execute_result"
    }
   ],
   "source": [
    "#For the attribute which have multiple unique values, the Gini\n",
    "Gini_Inv_nodes = Split_Gini('Inv-nodes', bc_data_na)\n",
    "Gini_Inv_nodes"
   ]
  }
 ],
 "metadata": {
  "kernelspec": {
   "display_name": "Python 3",
   "language": "python",
   "name": "python3"
  },
  "language_info": {
   "codemirror_mode": {
    "name": "ipython",
    "version": 3
   },
   "file_extension": ".py",
   "mimetype": "text/x-python",
   "name": "python",
   "nbconvert_exporter": "python",
   "pygments_lexer": "ipython3",
   "version": "3.7.7"
  }
 },
 "nbformat": 4,
 "nbformat_minor": 2
}
